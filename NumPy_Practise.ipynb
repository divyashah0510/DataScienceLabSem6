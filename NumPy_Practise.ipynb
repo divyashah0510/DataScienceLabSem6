{
 "cells": [
  {
   "cell_type": "markdown",
   "id": "f8854a82-0ddd-4e4c-9f76-77f7d4b84fd5",
   "metadata": {},
   "source": [
    "- To install NumPy we run command:\n",
    "```pip install numpy```"
   ]
  },
  {
   "cell_type": "code",
   "execution_count": 2,
   "id": "b2d10a11-12b8-4927-afef-5cec1d223083",
   "metadata": {},
   "outputs": [],
   "source": [
    "import numpy as np"
   ]
  },
  {
   "cell_type": "markdown",
   "id": "124fbf0c",
   "metadata": {},
   "source": [
    "- Creating an empty array"
   ]
  },
  {
   "cell_type": "code",
   "execution_count": 3,
   "id": "3b9e4b0d",
   "metadata": {},
   "outputs": [
    {
     "name": "stdout",
     "output_type": "stream",
     "text": [
      "[[6.23042070e-307 4.67296746e-307 1.69121096e-306 1.05700770e-307\n",
      "  1.89146896e-307]\n",
      " [7.56571288e-307 3.11525958e-307 1.24610723e-306 1.37962320e-306\n",
      "  1.29060871e-306]\n",
      " [2.22518251e-306 1.33511969e-306 1.78022342e-306 1.05700345e-307\n",
      "  3.11525958e-307]\n",
      " [1.69118108e-306 8.06632139e-308 1.20160711e-306 1.69119330e-306\n",
      "  1.29062229e-306]\n",
      " [1.29060531e-306 2.13620807e-306 1.69118787e-306 2.56765117e-312\n",
      "  5.97819431e-322]]\n"
     ]
    }
   ],
   "source": [
    "array_2d = np.empty((5,5))\n",
    "print(array_2d)"
   ]
  },
  {
   "cell_type": "markdown",
   "id": "4875257d",
   "metadata": {},
   "source": [
    "```The full() function in NumPy creates an array of a given shape and fills it with a specified value.```"
   ]
  },
  {
   "cell_type": "code",
   "execution_count": 10,
   "id": "375ebeda",
   "metadata": {},
   "outputs": [
    {
     "name": "stdout",
     "output_type": "stream",
     "text": [
      "[[6 6 6]\n",
      " [6 6 6]\n",
      " [6 6 6]\n",
      " [6 6 6]\n",
      " [6 6 6]]\n"
     ]
    }
   ],
   "source": [
    "# full_array = np.full((5,5),6)\n",
    "# We can also add attributes dtype in full function as well as empty function.\n",
    "full_arrayEg = np.full((5,3),6, dtype=int)\n",
    "print(full_arrayEg)"
   ]
  },
  {
   "cell_type": "markdown",
   "id": "7454b5f4",
   "metadata": {},
   "source": [
    "```Numpy array filled with all zeros```"
   ]
  },
  {
   "cell_type": "code",
   "execution_count": 13,
   "id": "86235f39",
   "metadata": {},
   "outputs": [
    {
     "name": "stdout",
     "output_type": "stream",
     "text": [
      "[[0 0 0 0 0]\n",
      " [0 0 0 0 0]\n",
      " [0 0 0 0 0]\n",
      " [0 0 0 0 0]\n",
      " [0 0 0 0 0]]\n"
     ]
    }
   ],
   "source": [
    "array_zeros = np.zeros((5,5),dtype=int)\n",
    "print(array_zeros)"
   ]
  },
  {
   "cell_type": "markdown",
   "id": "00ee9052",
   "metadata": {},
   "source": [
    "```Numpy array filled with all ones```"
   ]
  },
  {
   "cell_type": "code",
   "execution_count": 16,
   "id": "577089d1",
   "metadata": {},
   "outputs": [
    {
     "name": "stdout",
     "output_type": "stream",
     "text": [
      "[[1 1 1 1 1]\n",
      " [1 1 1 1 1]\n",
      " [1 1 1 1 1]\n",
      " [1 1 1 1 1]\n",
      " [1 1 1 1 1]]\n"
     ]
    }
   ],
   "source": [
    "array_ones = np.ones((5,5),dtype=int)\n",
    "print(array_ones)"
   ]
  },
  {
   "cell_type": "markdown",
   "id": "347b5727",
   "metadata": {},
   "source": [
    "```Check whether a Numpy array contains a specified row```"
   ]
  },
  {
   "cell_type": "markdown",
   "id": "377f4281",
   "metadata": {},
   "source": [
    "- If the given list is present in a NumPy array as a row then the output is True else False."
   ]
  },
  {
   "cell_type": "code",
   "execution_count": 26,
   "id": "f0ade6b9",
   "metadata": {},
   "outputs": [
    {
     "name": "stdout",
     "output_type": "stream",
     "text": [
      "[[   12    21  2122 21212   211]\n",
      " [   81  4304 59657   785  3232]\n",
      " [  323    32  4324     3     4]]\n",
      "True\n",
      "False\n",
      "False\n",
      "True\n"
     ]
    }
   ],
   "source": [
    "array_creation = np.array([[12,21,2122,21212,211],[81,4304,59657,785,3232],[323,32,4324,3,4]])\n",
    "print(array_creation)\n",
    "\n",
    "print([12,21,2122,21212,211]in array_creation.tolist())\n",
    "print([]in array_creation.tolist())\n",
    "print([11, 12, 13, 14, 15]in array_creation.tolist())\n",
    "print([323,32,4324,3,4]in array_creation.tolist())"
   ]
  },
  {
   "cell_type": "markdown",
   "id": "78a83ad3",
   "metadata": {},
   "source": [
    "https://www.geeksforgeeks.org/python-numpy-practice-exercises-questions-and-solutions/"
   ]
  },
  {
   "cell_type": "markdown",
   "id": "e1aa49ea",
   "metadata": {},
   "source": [
    "^^^^ To Be referred ^^^^"
   ]
  },
  {
   "cell_type": "code",
   "execution_count": null,
   "id": "18cee99c",
   "metadata": {},
   "outputs": [],
   "source": []
  }
 ],
 "metadata": {
  "kernelspec": {
   "display_name": "Python 3 (ipykernel)",
   "language": "python",
   "name": "python3"
  },
  "language_info": {
   "codemirror_mode": {
    "name": "ipython",
    "version": 3
   },
   "file_extension": ".py",
   "mimetype": "text/x-python",
   "name": "python",
   "nbconvert_exporter": "python",
   "pygments_lexer": "ipython3",
   "version": "3.12.1"
  }
 },
 "nbformat": 4,
 "nbformat_minor": 5
}
