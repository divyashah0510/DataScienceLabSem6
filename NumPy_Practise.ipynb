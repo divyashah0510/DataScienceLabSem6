{
 "cells": [
  {
   "cell_type": "markdown",
   "id": "f8854a82-0ddd-4e4c-9f76-77f7d4b84fd5",
   "metadata": {},
   "source": [
    "- To install NumPy we run command:\n",
    "```pip install numpy```"
   ]
  },
  {
   "cell_type": "code",
   "execution_count": 1,
   "id": "b2d10a11-12b8-4927-afef-5cec1d223083",
   "metadata": {},
   "outputs": [],
   "source": [
    "import numpy as np"
   ]
  },
  {
   "cell_type": "code",
   "execution_count": null,
   "id": "4506023b-9688-4a20-b7d0-d4abef529cdf",
   "metadata": {},
   "outputs": [],
   "source": []
  }
 ],
 "metadata": {
  "kernelspec": {
   "display_name": "Python 3 (ipykernel)",
   "language": "python",
   "name": "python3"
  },
  "language_info": {
   "codemirror_mode": {
    "name": "ipython",
    "version": 3
   },
   "file_extension": ".py",
   "mimetype": "text/x-python",
   "name": "python",
   "nbconvert_exporter": "python",
   "pygments_lexer": "ipython3",
   "version": "3.12.1"
  }
 },
 "nbformat": 4,
 "nbformat_minor": 5
}
