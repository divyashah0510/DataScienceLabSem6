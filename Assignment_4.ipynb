{
 "cells": [
  {
   "cell_type": "markdown",
   "id": "3d5f236b-734c-441f-8142-922338b28a6b",
   "metadata": {},
   "source": [
    "Question - 1"
   ]
  },
  {
   "cell_type": "markdown",
   "id": "10c3a32a-ec18-4ace-8fd1-a907cab39235",
   "metadata": {},
   "source": [
    "```In the population, the average IQ is 100 with a standard deviation of 15. A team of scientists want to test a new medication to see if it has either a positive or negative effect on intelligence, or not effect at all. A sample of 30 participants who have taken the medication has a mean of 140. Did the medication affect intelligence?```"
   ]
  },
  {
   "cell_type": "code",
   "execution_count": 1,
   "id": "6b285b2b-5aa5-43f1-911b-5a84805bfbb9",
   "metadata": {},
   "outputs": [
    {
     "name": "stdout",
     "output_type": "stream",
     "text": [
      "T-Statistic: 14.60593486680443\n",
      "Critical T-Value: 2.045229642132703\n",
      "The medication has a significant effect on intelligence.\n"
     ]
    }
   ],
   "source": [
    "from scipy import stats\n",
    "\n",
    "# Population parameters\n",
    "population_mean = 100\n",
    "population_std_dev = 15\n",
    "\n",
    "# Sample parameters\n",
    "sample_size = 30\n",
    "sample_mean = 140\n",
    "\n",
    "# Calculate the standard error of the mean (SEM)\n",
    "sem = population_std_dev / (sample_size ** 0.5)\n",
    "\n",
    "# Calculate the t-statistic\n",
    "t_statistic = (sample_mean - population_mean) / sem\n",
    "\n",
    "# Degrees of freedom for a one-sample t-test\n",
    "degrees_of_freedom = sample_size - 1\n",
    "\n",
    "# Set the significance level (alpha)\n",
    "alpha = 0.05\n",
    "\n",
    "# Calculate the critical t-value for a two-tailed test\n",
    "critical_t_value = stats.t.ppf(1 - alpha / 2, degrees_of_freedom)\n",
    "\n",
    "# Print the results\n",
    "print(f\"T-Statistic: {t_statistic}\")\n",
    "print(f\"Critical T-Value: {critical_t_value}\")\n",
    "\n",
    "# Compare the t-statistic to the critical t-value\n",
    "if abs(t_statistic) > critical_t_value:\n",
    "    print(\"The medication has a significant effect on intelligence.\")\n",
    "else:\n",
    "    print(\"There is no significant effect of the medication on intelligence.\")\n"
   ]
  },
  {
   "cell_type": "markdown",
   "id": "366058a2-da85-43d4-8e05-978292711bef",
   "metadata": {},
   "source": [
    "Question - 2"
   ]
  },
  {
   "cell_type": "markdown",
   "id": "edc6d98b-86ce-4318-a859-2b6d7313082c",
   "metadata": {},
   "source": [
    "```A professor wants to know if her introductory statistics class has a good grasp of basic math. Six students are chosen at random form the call an given a math proficiency test. The professor wants the class to be able to score above 70 on the test. The six students get the following scores: 62, 92, 75, 68, 83, 95. Can the professor have 90% confidence that the mean score for the class on the test would be above 70.```70."
   ]
  },
  {
   "cell_type": "code",
   "execution_count": 2,
   "id": "de8839e6-cff8-4eaf-a2bb-7a8c8a27943b",
   "metadata": {},
   "outputs": [
    {
     "name": "stdout",
     "output_type": "stream",
     "text": [
      "T-Statistic: 1.705313636019149\n",
      "Critical T-Value: 1.4758840487820273\n",
      "The professor can have 90.0% confidence that the mean score is above 70.\n"
     ]
    }
   ],
   "source": [
    "from scipy import stats\n",
    "import numpy as np\n",
    "\n",
    "# Given data\n",
    "scores = np.array([62, 92, 75, 68, 83, 95])\n",
    "\n",
    "# Sample parameters\n",
    "sample_size = len(scores)\n",
    "sample_mean = np.mean(scores)\n",
    "population_mean_threshold = 70\n",
    "\n",
    "# Calculate the standard error of the mean (SEM)\n",
    "sem = np.std(scores, ddof=1) / (sample_size ** 0.5)\n",
    "\n",
    "# Calculate the t-statistic\n",
    "t_statistic = (sample_mean - population_mean_threshold) / sem\n",
    "\n",
    "# Degrees of freedom for a one-sample t-test\n",
    "degrees_of_freedom = sample_size - 1\n",
    "\n",
    "# Set the confidence level\n",
    "confidence_level = 0.90\n",
    "\n",
    "# Calculate the critical t-value for a one-tailed test\n",
    "critical_t_value = stats.t.ppf(1 - (1 - confidence_level), degrees_of_freedom)\n",
    "\n",
    "# Print the results\n",
    "print(f\"T-Statistic: {t_statistic}\")\n",
    "print(f\"Critical T-Value: {critical_t_value}\")\n",
    "\n",
    "# Compare the t-statistic to the critical t-value\n",
    "if t_statistic > critical_t_value:\n",
    "    print(f\"The professor can have {confidence_level * 100}% confidence that the mean score is above 70.\")\n",
    "else:\n",
    "    print(\"The professor cannot have 90% confidence that the mean score is above 70.\")\n"
   ]
  },
  {
   "cell_type": "markdown",
   "id": "48b9707d-f316-4775-999f-1c13235d6c32",
   "metadata": {},
   "source": [
    "Question - 3"
   ]
  },
  {
   "cell_type": "markdown",
   "id": "d16e62d6-9f41-4b49-b278-9016b24aae5d",
   "metadata": {},
   "source": [
    "```A clinic provides a program to help their clients lose weight and asks a consumer agency to investigate the effectiveness of the program. The agency takes a sample of 15 people, weighing each person in the sample before the program begins and 3 months later. The results are tabulated below. Determine is the program is effective```ive"
   ]
  },
  {
   "cell_type": "code",
   "execution_count": 3,
   "id": "1661efc7-6d28-4a3b-a831-0eff63531679",
   "metadata": {},
   "outputs": [
    {
     "name": "stdout",
     "output_type": "stream",
     "text": [
      "T-Statistic: 8.165504377650214\n",
      "P-Value: 1.0781423462615868e-06\n",
      "The weight loss program is effective.\n"
     ]
    }
   ],
   "source": [
    "from scipy import stats\n",
    "import pandas as pd\n",
    "\n",
    "# Given data\n",
    "data = {\n",
    "    'Person': list(range(1, 16)),\n",
    "    'Before': [210, 205, 193, 259, 239, 239, 164, 197, 222, 211, 187, 175, 186, 243, 246],\n",
    "    'After': [197, 191, 174, 236, 226, 226, 157, 196, 201, 196, 181, 164, 181, 229, 231],\n",
    "    'Difference': [13, 10, 19, 23, 13, 13, 7, 1, 21, 15, 5, 11, 5, 14, 15]\n",
    "}\n",
    "\n",
    "df = pd.DataFrame(data)\n",
    "\n",
    "# Perform a paired t-test\n",
    "t_statistic, p_value = stats.ttest_rel(df['Before'], df['After'])\n",
    "\n",
    "# Set the significance level (alpha)\n",
    "alpha = 0.05\n",
    "\n",
    "# Print the results\n",
    "print(f\"T-Statistic: {t_statistic}\")\n",
    "print(f\"P-Value: {p_value}\")\n",
    "\n",
    "# Compare the p-value to the significance level\n",
    "if p_value < alpha:\n",
    "    print(\"The weight loss program is effective.\")\n",
    "else:\n",
    "    print(\"There is no significant evidence that the weight loss program is effective.\")\n"
   ]
  },
  {
   "cell_type": "markdown",
   "id": "1dd45498-ba0c-4082-9ca8-1287fafe61d9",
   "metadata": {},
   "source": [
    "Question - 4"
   ]
  },
  {
   "cell_type": "markdown",
   "id": "8b78e49b-6954-4bcc-9218-ebfc4eb5bfdf",
   "metadata": {},
   "source": [
    "```Consider you are performing ML for predicting housing prices you have trained three models and following data summarizes the predicted house price by each model for 5 different trial runs```s"
   ]
  },
  {
   "cell_type": "markdown",
   "id": "903bac73-6b32-4c15-835e-a39d11d51030",
   "metadata": {},
   "source": [
    "Model                         House price predicted (in Lakh Rs.)\n",
    "Code           Trial1      Trial2        Trial3    Trial4     Trial5\n",
    "ModelA       3.5           3.4            3.8         3.5        3.4\n",
    "ModelB       3.9           3.8            3.7          3.9       3.6\n",
    "ModelC        3.5          3.3            3.6           3.5      3.8"
   ]
  },
  {
   "cell_type": "code",
   "execution_count": 2,
   "id": "aae555b0-33f5-41f0-8005-536c1c51f94f",
   "metadata": {},
   "outputs": [
    {
     "name": "stdout",
     "output_type": "stream",
     "text": [
      "Mean House Prices:\n",
      "ModelA: 3.52 Lakh Rs.\n",
      "ModelB: 3.78 Lakh Rs.\n",
      "ModelC: 3.54 Lakh Rs.\n",
      "\n",
      "Median House Prices:\n",
      "ModelA: 3.50 Lakh Rs.\n",
      "ModelB: 3.80 Lakh Rs.\n",
      "ModelC: 3.50 Lakh Rs.\n",
      "\n",
      "Standard Deviation of House Prices:\n",
      "ModelA: 0.16 Lakh Rs.\n",
      "ModelB: 0.13 Lakh Rs.\n",
      "ModelC: 0.18 Lakh Rs.\n",
      "F-Statistic: 4.08\n",
      "P-Value: 0.0445\n",
      "The means of the three models are significantly different.\n"
     ]
    }
   ],
   "source": [
    "import numpy as np\n",
    "from scipy import stats\n",
    "\n",
    "# Given data\n",
    "house_prices = {\n",
    "    'ModelA': [3.5, 3.4, 3.8, 3.5, 3.4],\n",
    "    'ModelB': [3.9, 3.8, 3.7, 3.9, 3.6],\n",
    "    'ModelC': [3.5, 3.3, 3.6, 3.5, 3.8],\n",
    "}\n",
    "\n",
    "# Convert the data to numpy arrays for easier calculations\n",
    "model_a_prices = np.array(house_prices['ModelA'])\n",
    "model_b_prices = np.array(house_prices['ModelB'])\n",
    "model_c_prices = np.array(house_prices['ModelC'])\n",
    "\n",
    "# Calculate summary statistics\n",
    "mean_prices = {\n",
    "    'ModelA': np.mean(model_a_prices),\n",
    "    'ModelB': np.mean(model_b_prices),\n",
    "    'ModelC': np.mean(model_c_prices),\n",
    "}\n",
    "\n",
    "median_prices = {\n",
    "    'ModelA': np.median(model_a_prices),\n",
    "    'ModelB': np.median(model_b_prices),\n",
    "    'ModelC': np.median(model_c_prices),\n",
    "}\n",
    "\n",
    "std_dev_prices = {\n",
    "    'ModelA': np.std(model_a_prices, ddof=1),\n",
    "    'ModelB': np.std(model_b_prices, ddof=1),\n",
    "    'ModelC': np.std(model_c_prices, ddof=1),\n",
    "}\n",
    "\n",
    "# Print the summary statistics\n",
    "print(\"Mean House Prices:\")\n",
    "for model, mean_price in mean_prices.items():\n",
    "    print(f\"{model}: {mean_price:.2f} Lakh Rs.\")\n",
    "\n",
    "print(\"\\nMedian House Prices:\")\n",
    "for model, median_price in median_prices.items():\n",
    "    print(f\"{model}: {median_price:.2f} Lakh Rs.\")\n",
    "\n",
    "print(\"\\nStandard Deviation of House Prices:\")\n",
    "for model, std_dev_price in std_dev_prices.items():\n",
    "    print(f\"{model}: {std_dev_price:.2f} Lakh Rs.\")\n",
    "\n",
    "# Perform one-way ANOVA\n",
    "f_statistic, p_value = stats.f_oneway(model_a_prices, model_b_prices, model_c_prices)\n",
    "\n",
    "# Print the results\n",
    "print(f\"F-Statistic: {f_statistic:.2f}\")\n",
    "print(f\"P-Value: {p_value:.4f}\")\n",
    "\n",
    "# Check for statistical significance\n",
    "alpha = 0.05\n",
    "if p_value < alpha:\n",
    "    print(\"The means of the three models are significantly different.\")\n",
    "else:\n",
    "    print(\"There is no significant difference in the means of the three models.\")\n"
   ]
  }
 ],
 "metadata": {
  "kernelspec": {
   "display_name": "Python 3 (ipykernel)",
   "language": "python",
   "name": "python3"
  },
  "language_info": {
   "codemirror_mode": {
    "name": "ipython",
    "version": 3
   },
   "file_extension": ".py",
   "mimetype": "text/x-python",
   "name": "python",
   "nbconvert_exporter": "python",
   "pygments_lexer": "ipython3",
   "version": "3.12.1"
  }
 },
 "nbformat": 4,
 "nbformat_minor": 5
}
