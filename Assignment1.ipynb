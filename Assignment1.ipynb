{
 "cells": [
  {
   "cell_type": "markdown",
   "id": "347de31a-808b-4742-9f31-db70d2ec063c",
   "metadata": {},
   "source": [
    "# A"
   ]
  },
  {
   "cell_type": "code",
   "execution_count": 2,
   "id": "aeb0047d-100d-4cd1-98db-7322b999db8b",
   "metadata": {},
   "outputs": [
    {
     "name": "stdout",
     "output_type": "stream",
     "text": [
      "id                       0\n",
      "inning                   0\n",
      "over                     0\n",
      "ball                     0\n",
      "batsman                  0\n",
      "non_striker              0\n",
      "bowler                   0\n",
      "batsman_runs             0\n",
      "extra_runs               0\n",
      "total_runs               0\n",
      "non_boundary             0\n",
      "is_wicket                0\n",
      "dismissal_kind      183973\n",
      "player_dismissed    183973\n",
      "fielder             186684\n",
      "extras_type         183235\n",
      "batting_team             0\n",
      "bowling_team           191\n",
      "Unnamed: 18         193468\n",
      "dtype: int64\n"
     ]
    }
   ],
   "source": [
    "import pandas as pd\n",
    "readData = pd.read_csv('../CSV files/IPL Ball-by-Ball 2008-2020.csv')\n",
    "checkingNullValues = readData.isnull().sum()\n",
    "print(checkingNullValues)"
   ]
  },
  {
   "cell_type": "markdown",
   "id": "9aed597e-2519-46e9-96d0-97cf8299c4db",
   "metadata": {},
   "source": [
    "# B"
   ]
  },
  {
   "cell_type": "code",
   "execution_count": 44,
   "id": "e65f6e27-57a3-455b-b8ee-2bc90c00ffea",
   "metadata": {},
   "outputs": [
    {
     "name": "stdout",
     "output_type": "stream",
     "text": [
      "Successfull\n"
     ]
    }
   ],
   "source": [
    "# pehlaData = pd.read_csv('../CSV files/pehlaData.csv')\n",
    "# dusraData = pd.read_csv('../CSV files/dusraData.csv')\n",
    "# judaaHuaCSV = pd.merge(pehlaData,dusraData,on=\"Loan_ID\",how=\"inner\")\n",
    "print(\"Successfull\")"
   ]
  },
  {
   "cell_type": "markdown",
   "id": "35ea3c0b-fc0e-4d07-8086-65266b432d3e",
   "metadata": {},
   "source": [
    "# C"
   ]
  },
  {
   "cell_type": "code",
   "execution_count": 8,
   "id": "c35a81ad-d5d3-4f0e-80d7-0d4eb0a5a0f2",
   "metadata": {},
   "outputs": [
    {
     "name": "stdout",
     "output_type": "stream",
     "text": [
      "id                       0\n",
      "inning                   0\n",
      "over                     0\n",
      "ball                     0\n",
      "batsman                  0\n",
      "non_striker              0\n",
      "bowler                   0\n",
      "batsman_runs             0\n",
      "extra_runs               0\n",
      "total_runs               0\n",
      "non_boundary             0\n",
      "is_wicket                0\n",
      "dismissal_kind      183973\n",
      "player_dismissed    183973\n",
      "fielder             186684\n",
      "extras_type         183235\n",
      "batting_team             0\n",
      "bowling_team           191\n",
      "Unnamed: 18         193468\n",
      "dtype: int64\n"
     ]
    }
   ],
   "source": [
    "checkingNullValues = readData.isnull().sum()\n",
    "print(checkingNullValues)"
   ]
  },
  {
   "cell_type": "markdown",
   "id": "1cbbda3b-96f6-462f-be5a-df69069378b2",
   "metadata": {},
   "source": [
    "# D"
   ]
  },
  {
   "cell_type": "code",
   "execution_count": 9,
   "id": "9627b1ef-9fa6-45ea-9d73-60a6fca11cb5",
   "metadata": {},
   "outputs": [
    {
     "name": "stdout",
     "output_type": "stream",
     "text": [
      "<class 'pandas.core.frame.DataFrame'>\n",
      "RangeIndex: 193468 entries, 0 to 193467\n",
      "Data columns (total 19 columns):\n",
      " #   Column            Non-Null Count   Dtype  \n",
      "---  ------            --------------   -----  \n",
      " 0   id                193468 non-null  int64  \n",
      " 1   inning            193468 non-null  int64  \n",
      " 2   over              193468 non-null  int64  \n",
      " 3   ball              193468 non-null  int64  \n",
      " 4   batsman           193468 non-null  object \n",
      " 5   non_striker       193468 non-null  object \n",
      " 6   bowler            193468 non-null  object \n",
      " 7   batsman_runs      193468 non-null  int64  \n",
      " 8   extra_runs        193468 non-null  int64  \n",
      " 9   total_runs        193468 non-null  int64  \n",
      " 10  non_boundary      193468 non-null  int64  \n",
      " 11  is_wicket         193468 non-null  int64  \n",
      " 12  dismissal_kind    9495 non-null    object \n",
      " 13  player_dismissed  9495 non-null    object \n",
      " 14  fielder           6784 non-null    object \n",
      " 15  extras_type       10233 non-null   object \n",
      " 16  batting_team      193468 non-null  object \n",
      " 17  bowling_team      193277 non-null  object \n",
      " 18  Unnamed: 18       0 non-null       float64\n",
      "dtypes: float64(1), int64(9), object(9)\n",
      "memory usage: 28.0+ MB\n"
     ]
    }
   ],
   "source": [
    "readData.info()"
   ]
  },
  {
   "cell_type": "markdown",
   "id": "d4eed228-c7a9-4000-9333-609062b1f084",
   "metadata": {},
   "source": [
    "# D"
   ]
  },
  {
   "cell_type": "code",
   "execution_count": 11,
   "id": "390b3c9a-def2-4693-a27e-c8b7622307cf",
   "metadata": {},
   "outputs": [
    {
     "data": {
      "text/plain": [
       "(193468, 19)"
      ]
     },
     "execution_count": 11,
     "metadata": {},
     "output_type": "execute_result"
    }
   ],
   "source": [
    "readData.shape"
   ]
  },
  {
   "cell_type": "markdown",
   "id": "4f5ac048-2b82-4504-a4b0-3249218aa667",
   "metadata": {},
   "source": [
    "# E"
   ]
  },
  {
   "cell_type": "code",
   "execution_count": 21,
   "id": "ac3453b7-6c95-47a0-a816-b4878a1a54ab",
   "metadata": {},
   "outputs": [
    {
     "name": "stdout",
     "output_type": "stream",
     "text": [
      "Before Conversion\n",
      "id                    int64\n",
      "inning                int64\n",
      "over                  int64\n",
      "ball                  int64\n",
      "batsman              object\n",
      "non_striker          object\n",
      "bowler               object\n",
      "batsman_runs          int64\n",
      "extra_runs            int64\n",
      "total_runs            int64\n",
      "non_boundary          int64\n",
      "is_wicket             int64\n",
      "dismissal_kind       object\n",
      "player_dismissed     object\n",
      "fielder              object\n",
      "extras_type          object\n",
      "batting_team         object\n",
      "bowling_team         object\n",
      "Unnamed: 18         float64\n",
      "dtype: object\n",
      "After Conversion\n",
      "id                    int64\n",
      "inning                int64\n",
      "over                  int64\n",
      "ball                  int64\n",
      "batsman              object\n",
      "non_striker          object\n",
      "bowler               object\n",
      "batsman_runs          int64\n",
      "extra_runs            int64\n",
      "total_runs            int32\n",
      "non_boundary          int64\n",
      "is_wicket             int64\n",
      "dismissal_kind       object\n",
      "player_dismissed     object\n",
      "fielder              object\n",
      "extras_type          object\n",
      "batting_team         object\n",
      "bowling_team         object\n",
      "Unnamed: 18         float64\n",
      "dtype: object\n"
     ]
    }
   ],
   "source": [
    "print(\"Before Conversion\")\n",
    "print(readData.dtypes)\n",
    "# readData['bowling_team'] = readData['bowling_team'].astype(object)\n",
    "readData['total_runs'] = readData['total_runs'].astype(int)\n",
    "\n",
    "print(\"After Conversion\")\n",
    "print(readData.dtypes)"
   ]
  },
  {
   "cell_type": "markdown",
   "id": "8c457b6a-640c-4ba6-9175-92a6d890b1f1",
   "metadata": {},
   "source": [
    "# F"
   ]
  },
  {
   "cell_type": "code",
   "execution_count": 22,
   "id": "5f2d41d9-bec0-4d3a-93a6-dd7c7f04b712",
   "metadata": {},
   "outputs": [
    {
     "name": "stdout",
     "output_type": "stream",
     "text": [
      "                    id  inning  over  ball      batsman  non_striker  \\\n",
      "newFieldAdded                                                          \n",
      "1               335982       1     6     5   RT Ponting  BB McCullum   \n",
      "2               335982       1     6     6  BB McCullum   RT Ponting   \n",
      "3               335982       1     7     1  BB McCullum   RT Ponting   \n",
      "4               335982       1     7     2  BB McCullum   RT Ponting   \n",
      "5               335982       1     7     3   RT Ponting  BB McCullum   \n",
      "...                ...     ...   ...   ...          ...          ...   \n",
      "193464         1237181       1    12     5      RR Pant      SS Iyer   \n",
      "193465         1237181       1    12     6      RR Pant      SS Iyer   \n",
      "193466         1237181       1    13     1      RR Pant      SS Iyer   \n",
      "193467         1237181       1    13     2      RR Pant      SS Iyer   \n",
      "193468         1237181       1    13     3      SS Iyer      RR Pant   \n",
      "\n",
      "                        bowler  batsman_runs  extra_runs  total_runs  \\\n",
      "newFieldAdded                                                          \n",
      "1                    AA Noffke             1           0           1   \n",
      "2                    AA Noffke             1           0           1   \n",
      "3                       Z Khan             0           0           0   \n",
      "4                       Z Khan             1           0           1   \n",
      "5                       Z Khan             1           0           1   \n",
      "...                        ...           ...         ...         ...   \n",
      "193464         NM Coulter-Nile             0           0           0   \n",
      "193465         NM Coulter-Nile             1           0           1   \n",
      "193466               KH Pandya             0           1           1   \n",
      "193467               KH Pandya             1           0           1   \n",
      "193468               KH Pandya             1           0           1   \n",
      "\n",
      "               non_boundary  is_wicket dismissal_kind player_dismissed  \\\n",
      "newFieldAdded                                                            \n",
      "1                         0          0            NaN              NaN   \n",
      "2                         0          0            NaN              NaN   \n",
      "3                         0          0            NaN              NaN   \n",
      "4                         0          0            NaN              NaN   \n",
      "5                         0          0            NaN              NaN   \n",
      "...                     ...        ...            ...              ...   \n",
      "193464                    0          0            NaN              NaN   \n",
      "193465                    0          0            NaN              NaN   \n",
      "193466                    0          0            NaN              NaN   \n",
      "193467                    0          0            NaN              NaN   \n",
      "193468                    0          0            NaN              NaN   \n",
      "\n",
      "              fielder extras_type           batting_team  \\\n",
      "newFieldAdded                                              \n",
      "1                 NaN         NaN  Kolkata Knight Riders   \n",
      "2                 NaN         NaN  Kolkata Knight Riders   \n",
      "3                 NaN         NaN  Kolkata Knight Riders   \n",
      "4                 NaN         NaN  Kolkata Knight Riders   \n",
      "5                 NaN         NaN  Kolkata Knight Riders   \n",
      "...               ...         ...                    ...   \n",
      "193464            NaN         NaN         Delhi Capitals   \n",
      "193465            NaN         NaN         Delhi Capitals   \n",
      "193466            NaN       wides         Delhi Capitals   \n",
      "193467            NaN         NaN         Delhi Capitals   \n",
      "193468            NaN         NaN         Delhi Capitals   \n",
      "\n",
      "                              bowling_team  Unnamed: 18  \n",
      "newFieldAdded                                            \n",
      "1              Royal Challengers Bangalore          NaN  \n",
      "2              Royal Challengers Bangalore          NaN  \n",
      "3              Royal Challengers Bangalore          NaN  \n",
      "4              Royal Challengers Bangalore          NaN  \n",
      "5              Royal Challengers Bangalore          NaN  \n",
      "...                                    ...          ...  \n",
      "193464                      Mumbai Indians          NaN  \n",
      "193465                      Mumbai Indians          NaN  \n",
      "193466                      Mumbai Indians          NaN  \n",
      "193467                      Mumbai Indians          NaN  \n",
      "193468                      Mumbai Indians          NaN  \n",
      "\n",
      "[193468 rows x 19 columns]\n"
     ]
    }
   ],
   "source": [
    "readData['newFieldAdded'] = range(1,len(readData)+1) #creating part\n",
    "readData.set_index('newFieldAdded',inplace=True) #setting up the column\n",
    "print(readData)"
   ]
  },
  {
   "cell_type": "markdown",
   "id": "0210753c-f1c8-42ca-bbc4-b2473aa9668e",
   "metadata": {},
   "source": [
    "# G"
   ]
  },
  {
   "cell_type": "code",
   "execution_count": 30,
   "id": "fdc1a0e3-f1ae-4165-9ef5-f85a50e21fff",
   "metadata": {},
   "outputs": [
    {
     "name": "stdout",
     "output_type": "stream",
     "text": [
      "Outliers:\n",
      "Empty DataFrame\n",
      "Columns: [id, inning, over, ball, batsman_runs, extra_runs, non_boundary, is_wicket, Unnamed: 18]\n",
      "Index: []\n"
     ]
    }
   ],
   "source": [
    "# Select only numeric columns\n",
    "numeric_columns = readData.select_dtypes(include=['float64', 'int64'])\n",
    "\n",
    "# Identify outliers in numeric columns\n",
    "outliers = numeric_columns[(numeric_columns - numeric_columns.mean()).abs() > 3 * numeric_columns.std()].dropna()\n",
    "print(\"Outliers:\")\n",
    "print(outliers)"
   ]
  },
  {
   "cell_type": "markdown",
   "id": "cd9fdff6-077b-45de-bc27-d8069fbec9c1",
   "metadata": {},
   "source": [
    "# H"
   ]
  },
  {
   "cell_type": "code",
   "execution_count": 49,
   "id": "ef88cbd0-959f-4dd7-b38b-a8ccf4ef60a9",
   "metadata": {},
   "outputs": [
    {
     "name": "stdout",
     "output_type": "stream",
     "text": [
      "Matches played in each inning:\n",
      "inning\n",
      "1    100191\n",
      "2     93277\n",
      "Name: count, dtype: int64\n"
     ]
    }
   ],
   "source": [
    "matches_per_inning = readData['inning'].value_counts()\n",
    "print(\"Matches played in each inning:\")\n",
    "print(matches_per_inning)"
   ]
  },
  {
   "cell_type": "markdown",
   "id": "86fb9b7f-e604-4005-ac72-f4abb3ff419f",
   "metadata": {},
   "source": [
    "# I"
   ]
  },
  {
   "cell_type": "code",
   "execution_count": 50,
   "id": "3823952b-8282-41db-9797-a141522fb9cd",
   "metadata": {},
   "outputs": [
    {
     "name": "stdout",
     "output_type": "stream",
     "text": [
      "Runs scored in each inning:\n",
      "inning\n",
      "1    132069\n",
      "2    120725\n",
      "Name: total_runs, dtype: int32\n"
     ]
    }
   ],
   "source": [
    "runs_per_inning = readData.groupby('inning')['total_runs'].sum()\n",
    "print(\"Runs scored in each inning:\")\n",
    "print(runs_per_inning)"
   ]
  },
  {
   "cell_type": "markdown",
   "id": "8f865798-2f32-42c7-8f92-34426c193cd0",
   "metadata": {},
   "source": [
    "# J"
   ]
  },
  {
   "cell_type": "code",
   "execution_count": 51,
   "id": "b01e1102-281e-48cd-91d5-e260ea9932a6",
   "metadata": {},
   "outputs": [
    {
     "name": "stdout",
     "output_type": "stream",
     "text": [
      "Top 10 teams with the most number of matches won:\n",
      "batting_team\n",
      "Mumbai Indians                 24466\n",
      "Royal Challengers Bangalore    22706\n",
      "Kings XI Punjab                22622\n",
      "Kolkata Knight Riders          22554\n",
      "Chennai Super Kings            21455\n",
      "Rajasthan Royals               18954\n",
      "Delhi Daredevils               18780\n",
      "Sunrisers Hyderabad            14826\n",
      "Deccan Chargers                 9034\n",
      "Pune Warriors                   5443\n",
      "Name: count, dtype: int64\n"
     ]
    }
   ],
   "source": [
    "top_teams = readData['batting_team'].value_counts().head(10)\n",
    "print(\"Top 10 teams with the most number of matches won:\")\n",
    "print(top_teams)"
   ]
  },
  {
   "cell_type": "markdown",
   "id": "14b5ccfb-0001-4a61-a690-2fb2545fb3bc",
   "metadata": {},
   "source": [
    "# K"
   ]
  },
  {
   "cell_type": "code",
   "execution_count": 34,
   "id": "718baff1-4fa9-4ffe-9543-f0f2459d39db",
   "metadata": {},
   "outputs": [
    {
     "name": "stdout",
     "output_type": "stream",
     "text": [
      "Top 10 Players with Most Player of the Match awards:\n",
      "batsman\n",
      "V Kohli       4609\n",
      "S Dhawan      4208\n",
      "RG Sharma     4088\n",
      "SK Raina      4041\n",
      "DA Warner     3819\n",
      "RV Uthappa    3658\n",
      "G Gambhir     3524\n",
      "MS Dhoni      3493\n",
      "CH Gayle      3342\n",
      "AM Rahane     3325\n",
      "Name: count, dtype: int64\n"
     ]
    }
   ],
   "source": [
    "top_players = readData['batsman'].value_counts().head(10)\n",
    "print(\"Top 10 Players with Most Player of the Match awards:\")\n",
    "print(top_players)"
   ]
  },
  {
   "cell_type": "markdown",
   "id": "f671ecf3-5f48-4f2b-b669-af0dccf76f55",
   "metadata": {},
   "source": [
    "# L"
   ]
  },
  {
   "cell_type": "code",
   "execution_count": 35,
   "id": "1e951eb4-f502-47a4-bca3-3b50d7be7bd8",
   "metadata": {},
   "outputs": [
    {
     "name": "stdout",
     "output_type": "stream",
     "text": [
      "Percentage of choosing to field after winning the toss: 0.0\n"
     ]
    }
   ],
   "source": [
    "percentage_field = (readData[readData['extras_type'] == 'field'].shape[0] / readData.shape[0]) * 100\n",
    "print(\"Percentage of choosing to field after winning the toss:\", percentage_field)"
   ]
  },
  {
   "cell_type": "markdown",
   "id": "d1013596-1152-4ba1-8a0e-9454576884fc",
   "metadata": {},
   "source": [
    "# M"
   ]
  },
  {
   "cell_type": "code",
   "execution_count": 36,
   "id": "c0cf59ec-173a-4271-8cc2-51ed6bddb093",
   "metadata": {},
   "outputs": [
    {
     "name": "stdout",
     "output_type": "stream",
     "text": [
      "Percentage of choosing to bat first after winning the toss: 0.0\n"
     ]
    }
   ],
   "source": [
    "percentage_bat = (readData[readData['extras_type'] == 'bat'].shape[0] / readData.shape[0]) * 100\n",
    "print(\"Percentage of choosing to bat first after winning the toss:\", percentage_bat)"
   ]
  },
  {
   "cell_type": "markdown",
   "id": "3a1f802b-5a00-4d54-938d-c95c76b34293",
   "metadata": {},
   "source": [
    "# N"
   ]
  },
  {
   "cell_type": "code",
   "execution_count": 52,
   "id": "8b0f501a-662a-4a6d-b4ad-0f3c99f4bc7a",
   "metadata": {},
   "outputs": [
    {
     "name": "stdout",
     "output_type": "stream",
     "text": [
      "Ratio of Bat to Field count:\n",
      "extras_type\n",
      "wides      0.572462\n",
      "legbyes    0.303626\n",
      "noballs    0.074074\n",
      "byes       0.049643\n",
      "penalty    0.000195\n",
      "Name: proportion, dtype: float64\n"
     ]
    }
   ],
   "source": [
    "bat_to_field_ratio = readData['extras_type'].value_counts(normalize=True)\n",
    "print(\"Ratio of Bat to Field count:\")\n",
    "print(bat_to_field_ratio)"
   ]
  },
  {
   "cell_type": "markdown",
   "id": "e9b3da33-1e98-4382-b482-b15dd49321b4",
   "metadata": {},
   "source": [
    "# O"
   ]
  },
  {
   "cell_type": "code",
   "execution_count": 53,
   "id": "35fda287-6e2a-430c-a1c0-d712df667493",
   "metadata": {},
   "outputs": [
    {
     "name": "stdout",
     "output_type": "stream",
     "text": [
      "Count of Loss vs Wins vs Ties:\n",
      "dismissal_kind\n",
      "caught                   5743\n",
      "bowled                   1700\n",
      "run out                   893\n",
      "lbw                       571\n",
      "stumped                   294\n",
      "caught and bowled         269\n",
      "hit wicket                 12\n",
      "retired hurt               11\n",
      "obstructing the field       2\n",
      "Name: count, dtype: int64\n"
     ]
    }
   ],
   "source": [
    "result_counts = readData['dismissal_kind'].value_counts()\n",
    "print(\"Count of Loss vs Wins vs Ties:\")\n",
    "print(result_counts)"
   ]
  },
  {
   "cell_type": "markdown",
   "id": "d34fb28d-6817-4af1-bc91-75e6406f14f7",
   "metadata": {},
   "source": [
    "# P"
   ]
  },
  {
   "cell_type": "code",
   "execution_count": 54,
   "id": "04a23074-9a0b-4291-bebf-0eec89c9f9b5",
   "metadata": {},
   "outputs": [
    {
     "name": "stdout",
     "output_type": "stream",
     "text": [
      "Team that won the most tosses: Mumbai Indians\n"
     ]
    }
   ],
   "source": [
    "most_toss_wins = readData['batting_team'].value_counts().idxmax()\n",
    "print(\"Team that won the most tosses:\", most_toss_wins)"
   ]
  },
  {
   "cell_type": "markdown",
   "id": "704da583-d467-4ea7-9b59-e272699e753f",
   "metadata": {},
   "source": [
    "# Q"
   ]
  },
  {
   "cell_type": "code",
   "execution_count": 41,
   "id": "a0466067-8eb7-46c3-bcba-75ad24193a5e",
   "metadata": {},
   "outputs": [
    {
     "name": "stdout",
     "output_type": "stream",
     "text": [
      "Batsman who has hit the most number of 4's: S Dhawan\n"
     ]
    }
   ],
   "source": [
    "most_4s = readData[readData['batsman_runs'] == 4]['batsman'].value_counts().idxmax()\n",
    "print(\"Batsman who has hit the most number of 4's:\", most_4s)"
   ]
  },
  {
   "cell_type": "markdown",
   "id": "7ff5d05c-cdf6-4bed-9d88-4b5c28773e4d",
   "metadata": {},
   "source": [
    "# R"
   ]
  },
  {
   "cell_type": "code",
   "execution_count": 42,
   "id": "e131ca46-1b0d-43b2-a6da-ecfa7d11abbf",
   "metadata": {},
   "outputs": [
    {
     "name": "stdout",
     "output_type": "stream",
     "text": [
      "Batsman who has hit the most number of 6's: CH Gayle\n"
     ]
    }
   ],
   "source": [
    "most_6s = readData[readData['batsman_runs'] == 6]['batsman'].value_counts().idxmax()\n",
    "print(\"Batsman who has hit the most number of 6's:\", most_6s)"
   ]
  }
 ],
 "metadata": {
  "kernelspec": {
   "display_name": "Python 3 (ipykernel)",
   "language": "python",
   "name": "python3"
  },
  "language_info": {
   "codemirror_mode": {
    "name": "ipython",
    "version": 3
   },
   "file_extension": ".py",
   "mimetype": "text/x-python",
   "name": "python",
   "nbconvert_exporter": "python",
   "pygments_lexer": "ipython3",
   "version": "3.12.1"
  }
 },
 "nbformat": 4,
 "nbformat_minor": 5
}
