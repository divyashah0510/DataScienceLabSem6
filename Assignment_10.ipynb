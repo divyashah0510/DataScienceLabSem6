{
 "cells": [
  {
   "cell_type": "code",
   "execution_count": 1,
   "metadata": {},
   "outputs": [
    {
     "name": "stdout",
     "output_type": "stream",
     "text": [
      "Recommended songs: ['Creep', 'Blinding Lights', 'Pray For Me']\n"
     ]
    }
   ],
   "source": [
    "import numpy as np\n",
    "\n",
    "# Sample user-song ratings matrix (user-item matrix)\n",
    "# Rows: Users, Columns: Songs\n",
    "# Each cell represents the rating given by the user to the song (0 if not rated)\n",
    "user_song_ratings = np.array([\n",
    "    [5, 0, 4, 0, 3],\n",
    "    [0, 4, 4, 0, 0],\n",
    "    [4, 3, 0, 5, 0],\n",
    "    [0, 0, 5, 0, 4],\n",
    "    [5, 4, 0, 0, 3]\n",
    "])\n",
    "\n",
    "# Dictionary to map song names to indices and vice versa\n",
    "song_to_index = {\n",
    "    \"Animals\": 0,\n",
    "    \"Light Switch\": 1,\n",
    "    \"Creep\": 2,\n",
    "    \"Pray For Me\": 3,\n",
    "    \"Blinding Lights\": 4\n",
    "}\n",
    "\n",
    "index_to_song = {v: k for k, v in song_to_index.items()}\n",
    "\n",
    "# Function to recommend songs for a given user\n",
    "def recommend_songs(user_id, user_song_ratings, num_recommendations=3):\n",
    "    user_ratings = user_song_ratings[user_id]  # Get user ratings\n",
    "    unrated_indices = np.where(user_ratings == 0)[0]  # Find unrated songs\n",
    "    scores = user_song_ratings.dot(user_ratings)  # Calculate scores based on user ratings\n",
    "    scores[user_ratings.nonzero()] = 0  # Set scores for rated songs to 0\n",
    "    recommended_song_indices = np.argsort(scores)[::-1][:num_recommendations]  # Get indices of top recommendations\n",
    "    return [index_to_song[i] for i in recommended_song_indices]\n",
    "\n",
    "# Example usage\n",
    "user_id = 2  # User for whom we want to recommend songs\n",
    "recommendations = recommend_songs(user_id, user_song_ratings)\n",
    "print(\"Recommended songs:\", recommendations)"
   ]
  }
 ],
 "metadata": {
  "kernelspec": {
   "display_name": "Python 3",
   "language": "python",
   "name": "python3"
  },
  "language_info": {
   "codemirror_mode": {
    "name": "ipython",
    "version": 3
   },
   "file_extension": ".py",
   "mimetype": "text/x-python",
   "name": "python",
   "nbconvert_exporter": "python",
   "pygments_lexer": "ipython3",
   "version": "3.12.1"
  }
 },
 "nbformat": 4,
 "nbformat_minor": 2
}
