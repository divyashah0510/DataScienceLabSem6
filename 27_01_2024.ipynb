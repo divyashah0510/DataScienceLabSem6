{
 "cells": [
  {
   "cell_type": "markdown",
   "id": "dcc3b33b-fe0d-4902-abd1-6fb98dacb3f5",
   "metadata": {},
   "source": [
    "# A\n",
    "```Identify the most frequent values for all categorical features```"
   ]
  },
  {
   "cell_type": "code",
   "execution_count": 11,
   "id": "b1205b72-1366-4e74-aaa3-3fc08734f7fc",
   "metadata": {},
   "outputs": [
    {
     "name": "stdout",
     "output_type": "stream",
     "text": [
      "\n",
      "Most frequent values for 'Loan_ID': \n",
      "Loan_ID\n",
      "LP001002    1\n",
      "LP002328    1\n",
      "LP002305    1\n",
      "LP002308    1\n",
      "LP002314    1\n",
      "           ..\n",
      "LP001692    1\n",
      "LP001693    1\n",
      "LP001698    1\n",
      "LP001699    1\n",
      "LP002990    1\n",
      "Name: count, Length: 614, dtype: int64\n",
      "\n",
      "Most frequent values for 'Gender': \n",
      "Gender\n",
      "Male      489\n",
      "Female    112\n",
      "Name: count, dtype: int64\n",
      "\n",
      "Most frequent values for 'Married': \n",
      "Married\n",
      "Yes    398\n",
      "No     213\n",
      "Name: count, dtype: int64\n",
      "\n",
      "Most frequent values for 'Dependents': \n",
      "Dependents\n",
      "0     345\n",
      "1     102\n",
      "2     101\n",
      "3+     51\n",
      "Name: count, dtype: int64\n",
      "\n",
      "Most frequent values for 'Education': \n",
      "Education\n",
      "Graduate        480\n",
      "Not Graduate    134\n",
      "Name: count, dtype: int64\n",
      "\n",
      "Most frequent values for 'Self_Employed': \n",
      "Self_Employed\n",
      "No     500\n",
      "Yes     82\n",
      "Name: count, dtype: int64\n",
      "\n",
      "Most frequent values for 'Property_Area': \n",
      "Property_Area\n",
      "Semiurban    233\n",
      "Urban        202\n",
      "Rural        179\n",
      "Name: count, dtype: int64\n",
      "\n",
      "Most frequent values for 'Loan_Status': \n",
      "Loan_Status\n",
      "Y    422\n",
      "N    192\n",
      "Name: count, dtype: int64\n"
     ]
    }
   ],
   "source": [
    "import pandas as pd\n",
    "readData = pd.read_csv('../CSV files/loan.csv')\n",
    "category_col=readData.select_dtypes(include=['object']).columns\n",
    "for column in category_col:\n",
    "    print(f\"\\nMost frequent values for '{column}': \")\n",
    "    print(readData[column].value_counts())"
   ]
  },
  {
   "cell_type": "markdown",
   "id": "ce79f7f6-3811-4fd8-8d4c-124cd990f0ee",
   "metadata": {},
   "source": [
    "# B\n",
    "``` Give descriptive statistics of numerical features in the dataset. Comment about the distribution of data from it.```\r\n"
   ]
  },
  {
   "cell_type": "code",
   "execution_count": 19,
   "id": "452883c6-6539-47ac-b555-2fb793e987b2",
   "metadata": {},
   "outputs": [
    {
     "name": "stdout",
     "output_type": "stream",
     "text": [
      "Index(['ApplicantIncome', 'CoapplicantIncome', 'LoanAmount',\n",
      "       'Loan_Amount_Term', 'Credit_History'],\n",
      "      dtype='object')\n"
     ]
    }
   ],
   "source": [
    "numerical_col=readData.select_dtypes(include=['number']).columns\n",
    "print(numerical_col)"
   ]
  },
  {
   "cell_type": "code",
   "execution_count": 21,
   "id": "a644692c-cb94-4d52-a742-4d650e6a43de",
   "metadata": {},
   "outputs": [
    {
     "name": "stdout",
     "output_type": "stream",
     "text": [
      "\n",
      "ApplicantIncome\n",
      "0    5849\n",
      "1    4583\n",
      "2    3000\n",
      "3    2583\n",
      "4    6000\n",
      "Name: ApplicantIncome, dtype: int64\n",
      "\n",
      "CoapplicantIncome\n",
      "0       0.0\n",
      "1    1508.0\n",
      "2       0.0\n",
      "3    2358.0\n",
      "4       0.0\n",
      "Name: CoapplicantIncome, dtype: float64\n",
      "\n",
      "LoanAmount\n",
      "0      NaN\n",
      "1    128.0\n",
      "2     66.0\n",
      "3    120.0\n",
      "4    141.0\n",
      "Name: LoanAmount, dtype: float64\n",
      "\n",
      "Loan_Amount_Term\n",
      "0    360.0\n",
      "1    360.0\n",
      "2    360.0\n",
      "3    360.0\n",
      "4    360.0\n",
      "Name: Loan_Amount_Term, dtype: float64\n",
      "\n",
      "Credit_History\n",
      "0    1.0\n",
      "1    1.0\n",
      "2    1.0\n",
      "3    1.0\n",
      "4    1.0\n",
      "Name: Credit_History, dtype: float64\n"
     ]
    }
   ],
   "source": [
    "for column in numerical_col:\n",
    "    print(f\"\\n{column}\")\n",
    "    print(readData[column].head())"
   ]
  },
  {
   "cell_type": "markdown",
   "id": "79271797-034d-4543-8d06-eee144c638d0",
   "metadata": {},
   "source": [
    "# C\n",
    "```Replace the missing values in categorial features using appropriate techniques.```"
   ]
  },
  {
   "cell_type": "markdown",
   "id": "8ee9dbad-783f-4117-9280-e69e892d6d08",
   "metadata": {},
   "source": [
    "# D\n",
    "```Demonstrate various encoding techniques for categorical features```"
   ]
  },
  {
   "cell_type": "markdown",
   "id": "e00d9d8f-06ba-4faf-813e-c8aa1d9f19b2",
   "metadata": {},
   "source": [
    "# E\n",
    "```For numerical features, replace missing values using:```\n",
    "- ```using simple imputer (mean, median)```\r",
    "- ```using random sample imputation```\r\n"
   ]
  },
  {
   "cell_type": "markdown",
   "id": "45001051-2811-431a-9cef-c200027b9a7c",
   "metadata": {},
   "source": [
    "# F\n",
    "```Give descriptive statistics of numerical features in the dataset after handling missing values. Comment about the distribution of data from it```.\r\n"
   ]
  },
  {
   "cell_type": "markdown",
   "id": "7266f28f-6843-410c-897a-f292fb5da906",
   "metadata": {},
   "source": [
    "# G\n",
    "```Plot following graphs. Label X and Y axis, give appropriate title to the graph:```\n",
    "- Plot histogram for Loan Amount and mention your observations\n",
    "- Plot histogram for Loan Amount and mention your observations\n",
    "- Plot bar graph showing income for graduate and non-graduate applicant and mention your observations\n",
    "- Plot the boxplot for Loan amount. Give the five-value summary from it.\n",
    "- Comment on the correlation between Applicant's income and Loan amount using appropriate graph.\n",
    "- Give descriptive statistics of numerical features in the dataset. Comment about the distribution of data from it.m it.\r\n"
   ]
  },
  {
   "cell_type": "code",
   "execution_count": null,
   "id": "232f7086-d99a-4b71-84ed-e86b7362bea1",
   "metadata": {},
   "outputs": [],
   "source": []
  }
 ],
 "metadata": {
  "kernelspec": {
   "display_name": "Python 3 (ipykernel)",
   "language": "python",
   "name": "python3"
  },
  "language_info": {
   "codemirror_mode": {
    "name": "ipython",
    "version": 3
   },
   "file_extension": ".py",
   "mimetype": "text/x-python",
   "name": "python",
   "nbconvert_exporter": "python",
   "pygments_lexer": "ipython3",
   "version": "3.12.1"
  }
 },
 "nbformat": 4,
 "nbformat_minor": 5
}
